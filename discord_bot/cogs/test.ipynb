{
 "cells": [
  {
   "cell_type": "code",
   "execution_count": 15,
   "metadata": {},
   "outputs": [
    {
     "data": {
      "text/plain": [
       "True"
      ]
     },
     "execution_count": 15,
     "metadata": {},
     "output_type": "execute_result"
    }
   ],
   "source": [
    "from langchain_core.messages import HumanMessage,SystemMessage\n",
    "from langchain_openai import ChatOpenAI,OpenAI\n",
    "import pandas as pd\n",
    "from dotenv import load_dotenv\n",
    "\n",
    "load_dotenv(\"../../.env\")"
   ]
  },
  {
   "cell_type": "code",
   "execution_count": 16,
   "metadata": {},
   "outputs": [],
   "source": [
    "model = ChatOpenAI(temperature=0.5, model=\"gpt-4o\", max_tokens=4095)\n"
   ]
  },
  {
   "cell_type": "code",
   "execution_count": 18,
   "metadata": {},
   "outputs": [],
   "source": [
    "msg = await model.ainvoke(\n",
    "    [\n",
    "        SystemMessage(\n",
    "            [\n",
    "                {\n",
    "                    \"type\": \"text\",\n",
    "                    \"text\": \"Analyze the stock trend from the graph user given, then give response with your analyze and predict trend of the stock and give advice like whether or not to buy or sell the stock. Response with no spare information like how the indicator works,... and also response in Vietnamese and add some markdown component for better visualization but dont use any codeblock or table\",\n",
    "                }\n",
    "            ]\n",
    "        ),\n",
    "        HumanMessage(\n",
    "            content=[\n",
    "                {\n",
    "                    \"type\": \"image_url\",\n",
    "                    \"image_url\": {\n",
    "                        \"url\": \"https://cdn.discordapp.com/attachments/1236986295771861043/1250856432224567356/daily_chart.png?ex=66745f55&is=66730dd5&hm=dd4b2448bf9194d61ca43c70857d8ea3a75e3ee788a81a142185f80e51c52cf5&\"\n",
    "                    },\n",
    "                },\n",
    "            ]\n",
    "        ),\n",
    "    ]\n",
    ")"
   ]
  },
  {
   "cell_type": "code",
   "execution_count": 20,
   "metadata": {},
   "outputs": [
    {
     "data": {
      "text/plain": [
       "'### Phân tích xu hướng cổ phiếu BID\\n\\n**Biểu đồ hàng ngày của chỉ báo RSI**\\n\\n- **Thời gian:** Từ 2024-04-22 đến 2024-06-15\\n- **Giá trị RSI:** Dao động từ khoảng 35 đến 50\\n\\n### Nhận định\\n\\n- **Xu hướng hiện tại:** Chỉ báo RSI của cổ phiếu BID có xu hướng dao động mạnh trong khoảng thời gian này. Gần đây nhất, RSI đã tăng mạnh từ mức thấp nhất khoảng 35 lên mức gần 50.\\n- **Xu hướng ngắn hạn:** Có sự tăng trưởng mạnh mẽ trong thời gian gần đây, cho thấy có thể có sự hồi phục hoặc tăng giá trong ngắn hạn.\\n\\n### Khuyến nghị\\n\\n- **Mua:** Nếu bạn đang tìm kiếm cơ hội đầu tư ngắn hạn, đây có thể là thời điểm tốt để mua vào do RSI đang tăng mạnh, biểu hiện cho sự hồi phục.\\n- **Bán:** Nếu bạn đã nắm giữ cổ phiếu từ trước và đang tìm cơ hội thoát ra, có thể cân nhắc bán khi RSI đạt mức cao hơn (trên 70).\\n\\nLưu ý: Quyết định đầu tư cần được cân nhắc kỹ lưỡng dựa trên nhiều yếu tố khác nhau, không chỉ dựa vào chỉ báo RSI.'"
      ]
     },
     "execution_count": 20,
     "metadata": {},
     "output_type": "execute_result"
    }
   ],
   "source": [
    "msg.content"
   ]
  }
 ],
 "metadata": {
  "kernelspec": {
   "display_name": "Python 3",
   "language": "python",
   "name": "python3"
  },
  "language_info": {
   "codemirror_mode": {
    "name": "ipython",
    "version": 3
   },
   "file_extension": ".py",
   "mimetype": "text/x-python",
   "name": "python",
   "nbconvert_exporter": "python",
   "pygments_lexer": "ipython3",
   "version": "3.10.4"
  }
 },
 "nbformat": 4,
 "nbformat_minor": 2
}
