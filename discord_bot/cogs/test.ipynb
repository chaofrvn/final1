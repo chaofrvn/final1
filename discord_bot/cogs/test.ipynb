{
 "cells": [
  {
   "cell_type": "code",
   "execution_count": 12,
   "metadata": {},
   "outputs": [
    {
     "name": "stdout",
     "output_type": "stream",
     "text": [
      "sk-proj-7IclsPX8vG7Ytwrr2HOmT3BlbkFJ4WMepJXgfQsot0kuVZ3d\n"
     ]
    }
   ],
   "source": [
    "from openai import OpenAI\n",
    "from dotenv import load_dotenv\n",
    "import os\n",
    "load_dotenv(\"../../.env\")\n",
    "print(os.environ[\"OPENAI_API_KEY\"])"
   ]
  },
  {
   "cell_type": "code",
   "execution_count": 13,
   "metadata": {},
   "outputs": [],
   "source": [
    "client = OpenAI()"
   ]
  },
  {
   "cell_type": "code",
   "execution_count": 22,
   "metadata": {},
   "outputs": [
    {
     "name": "stdout",
     "output_type": "stream",
     "text": [
      "Choice(finish_reason='stop', index=0, logprobs=None, message=ChatCompletionMessage(content='Biểu đồ hiển thị xu hướng giảm của cổ phiếu BID trong khoảng thời gian từ đầu tháng 4/2024 đến đầu tháng 6/2024. Giá cổ phiếu bắt đầu từ khoảng 52-53 và giảm liên tục, có những đợt phục hồi nhẹ nhưng rồi lại giảm tiếp, đạt mức khoảng 47-48 vào đầu tháng 6.\\n\\nNhìn chung, xu hướng chủ đạo là giảm. Nếu bạn đang nắm giữ cổ phiếu này, bạn nên cân nhắc việc bán để tránh thiệt hại thêm. nếu bạn đang xem xét mua vào, hiện tại chưa phải là thời điểm tốt, nên chờ đợi tín hiệu ổn định hoặc đảo chiều tăng trưởng trước khi quyết định đầu tư.', role='assistant', function_call=None, tool_calls=None))\n"
     ]
    }
   ],
   "source": [
    "response = client.chat.completions.create(\n",
    "    model=\"gpt-4o\",\n",
    "    messages=[\n",
    "        {\"role\": \"system\", \"content\": [{\"type\": \"text\", \"text\": \"Analyze the stock trend from the graph user given, then give response with your analyze and predict trend of the stock and give advice like whether or not to buy or sell the stock. Response with no spare information like how the indicator works,... and also response in Vietnamese and add some markdown component for better visualization\"}]},\n",
    "        {\n",
    "            \"role\": \"user\",\n",
    "            \"content\": [\n",
    "                {\n",
    "                    \"type\": \"image_url\",\n",
    "                    \"image_url\": {\n",
    "                        \"url\": \"https://media.discordapp.net/attachments/1236986295771861043/1248841319976271952/daily_chart.png?ex=6665219d&is=6663d01d&hm=f47345517a282b267341a103160ea9ffba50a0a7e55f3f290543d4febeeb8d89&\",\n",
    "                    },\n",
    "                },\n",
    "            ],\n",
    "        },\n",
    "    ],\n",
    "    max_tokens=4096,\n",
    ")\n",
    "\n",
    "print(response.choices)"
   ]
  },
  {
   "cell_type": "code",
   "execution_count": 23,
   "metadata": {},
   "outputs": [
    {
     "name": "stdout",
     "output_type": "stream",
     "text": [
      "Biểu đồ hiển thị xu hướng giảm của cổ phiếu BID trong khoảng thời gian từ đầu tháng 4/2024 đến đầu tháng 6/2024. Giá cổ phiếu bắt đầu từ khoảng 52-53 và giảm liên tục, có những đợt phục hồi nhẹ nhưng rồi lại giảm tiếp, đạt mức khoảng 47-48 vào đầu tháng 6.\n",
      "\n",
      "Nhìn chung, xu hướng chủ đạo là giảm. Nếu bạn đang nắm giữ cổ phiếu này, bạn nên cân nhắc việc bán để tránh thiệt hại thêm. nếu bạn đang xem xét mua vào, hiện tại chưa phải là thời điểm tốt, nên chờ đợi tín hiệu ổn định hoặc đảo chiều tăng trưởng trước khi quyết định đầu tư.\n"
     ]
    }
   ],
   "source": [
    "print (response.choices[0].message.content)"
   ]
  }
 ],
 "metadata": {
  "kernelspec": {
   "display_name": "Python 3",
   "language": "python",
   "name": "python3"
  },
  "language_info": {
   "codemirror_mode": {
    "name": "ipython",
    "version": 3
   },
   "file_extension": ".py",
   "mimetype": "text/x-python",
   "name": "python",
   "nbconvert_exporter": "python",
   "pygments_lexer": "ipython3",
   "version": "3.10.4"
  }
 },
 "nbformat": 4,
 "nbformat_minor": 2
}
