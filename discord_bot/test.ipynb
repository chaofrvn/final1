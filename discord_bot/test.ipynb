{
 "cells": [
  {
   "cell_type": "code",
   "execution_count": 1,
   "metadata": {},
   "outputs": [],
   "source": [
    "from langchain_core.messages import HumanMessage,SystemMessage\n",
    "from langchain_openai import ChatOpenAI,OpenAI\n",
    "import pandas as pd\n",
    "from dotenv import load_dotenv\n",
    "import re\n",
    "load_dotenv(\"../.env\")\n",
    "from influx_db import get_analaytic_data"
   ]
  },
  {
   "cell_type": "code",
   "execution_count": 15,
   "metadata": {},
   "outputs": [],
   "source": [
    "model = ChatOpenAI(temperature=0.5, model=\"gpt-4o\", max_tokens=4095)\n",
    "df=await get_analaytic_data(ticker=\"MWG\")\n",
    "df.columns = [re.sub(r\"[_\\d.]\", \"\", name) for name in df.columns]\n",
    "df.index = df.index.tz_convert(\"Asia/Ho_Chi_minh\").strftime(\"%Y-%m-%d\")\n",
    "df.reset_index(inplace=True)\n",
    "# df.to_csv(\"./test.csv\")\n",
    "data=df.to_json(orient=\"records\")"
   ]
  },
  {
   "cell_type": "code",
   "execution_count": 16,
   "metadata": {},
   "outputs": [],
   "source": [
    "msg = await model.ainvoke(\n",
    "    [\n",
    "        SystemMessage(\n",
    "            [\n",
    "                {\n",
    "                    \"type\": \"text\",\n",
    "                    # \"text\": \"Analyze the stock trend from the graph user given, then give response with your analyze and predict trend of the stock and give advice like whether or not to buy or sell the stock. Response with no spare information like how the indicator works,... and also response in Vietnamese and add some markdown component for better visualization but dont use any codeblock or table\",\n",
    "                    \"text\": \"\"\"You are a financial analyst. Analyze the following stock data and provide insights on the overall trend, potential trading signals, and market sentiment. The data includes the following columns: _time, close, high, low, volume, SMA, MACD, RSI, STOCHk, OBV, BBL, BBM, BBU, and ATRr in JSON format. 1. **Overall Trend**: - Examine the closing prices and Simple Moving Average (SMA) to determine the overall trend of the stock. - Analyze the MACD values to understand the momentum and potential trend reversals. 2. **Trading Signals**: - Use the Relative Strength Index (RSI) to identify overbought or oversold conditions. - Evaluate the Stochastic Oscillator (STOCHk) for additional momentum and reversal signals. 3. **Volume Analysis**: - Assess the On-Balance Volume (OBV) to understand the buying and selling pressure. 4. **Volatility**: - Interpret the Bollinger Bands (BBL, BBM, BBU) to gauge market volatility and potential breakouts. - Use the Average True Range (ATRr) to measure market volatility. 5. **Key Support and Resistance Levels**: - Identify key support and resistance levels based on high and low prices. Provide a detailed analysis of the stock's performance over time, highlighting any significant patterns or signals that could inform trading decisions. Use the provided data to support your analysis. Predict trend of the stock and give advice like whether or not to buy or sell the stock right at that moment The stock data is given by user Response in Vietnamese and add some markdown component for better visualization but dont use any codeblock or table or heading. Please provide your analysis.\"\"\",\n",
    "                }\n",
    "            ]\n",
    "        ),\n",
    "        HumanMessage(\n",
    "            content=[\n",
    "                {\n",
    "                    \"type\": \"text\",\n",
    "                    \"text\": data,\n",
    "                },\n",
    "            ]\n",
    "        ),\n",
    "    ]\n",
    ")"
   ]
  },
  {
   "cell_type": "code",
   "execution_count": 17,
   "metadata": {},
   "outputs": [
    {
     "name": "stdout",
     "output_type": "stream",
     "text": [
      "2217\n"
     ]
    },
    {
     "data": {
      "text/markdown": [
       "**Phân tích xu hướng tổng thể**:\n",
       "- Dựa trên giá đóng cửa và SMA, có thể thấy xu hướng chung của cổ phiếu này là tăng. Giá đóng cửa đã tăng từ 58.9 lên 63.3 trong khoảng thời gian từ ngày 10 tháng 5 đến ngày 19 tháng 6 năm 2024. SMA cũng tăng từ 56.68 lên 62.72, cho thấy xu hướng tăng bền vững.\n",
       "- MACD duy trì ở mức dương trong suốt khoảng thời gian, dao động từ 3.29 xuống 1.43, cho thấy động lượng tăng vẫn còn mặc dù có dấu hiệu giảm nhẹ.\n",
       "\n",
       "**Tín hiệu giao dịch**:\n",
       "- RSI thường xuyên trên mức 70, cho thấy cổ phiếu này đang ở trong vùng quá mua. Tuy nhiên, RSI cũng giảm dần về cuối khoảng thời gian, cho thấy có thể có sự điều chỉnh giá trong ngắn hạn.\n",
       "- STOCHk cũng thường xuyên trên mức 80, xác nhận tín hiệu quá mua và có khả năng xảy ra đảo chiều.\n",
       "\n",
       "**Phân tích khối lượng**:\n",
       "- OBV tăng từ 130,171,200 lên 154,578,500, cho thấy áp lực mua mạnh mẽ. Tuy nhiên, có một số thời điểm OBV giảm, cho thấy có sự bán ra nhưng không đủ mạnh để đảo ngược xu hướng tăng.\n",
       "\n",
       "**Biến động thị trường**:\n",
       "- Bollinger Bands (BBL, BBM, BBU) cho thấy sự biến động khá lớn, đặc biệt là vào cuối khoảng thời gian, khi giá tiếp cận gần với BBU. Điều này có thể chỉ ra rằng giá cổ phiếu có thể sắp xảy ra một đợt điều chỉnh.\n",
       "- ATRr dao động từ 1.72 đến 2.03, cho thấy mức độ biến động khá cao, đặc biệt là vào những ngày cuối.\n",
       "\n",
       "**Các mức hỗ trợ và kháng cự quan trọng**:\n",
       "- Mức hỗ trợ gần nhất có thể được xác định quanh mức giá thấp của ngày 5 tháng 6 là 61.6.\n",
       "- Mức kháng cự gần nhất có thể được xác định quanh mức giá cao của ngày 31 tháng 5 là 64.4.\n",
       "\n",
       "**Dự đoán xu hướng và lời khuyên giao dịch**:\n",
       "- Xu hướng tổng thể của cổ phiếu vẫn là tăng, nhưng có dấu hiệu của sự điều chỉnh trong ngắn hạn do RSI và STOCHk cho thấy tình trạng quá mua.\n",
       "- Khối lượng giao dịch và OBV cho thấy áp lực mua vẫn mạnh, nhưng cần cẩn trọng với các tín hiệu quá mua.\n",
       "- Dựa trên các yếu tố trên, nếu bạn đang nắm giữ cổ phiếu này, có thể cân nhắc chốt lời một phần để bảo vệ lợi nhuận. Nếu bạn đang xem xét mua vào, nên chờ đợi một đợt điều chỉnh giảm giá để có mức giá vào hợp lý hơn.\n",
       "\n",
       "**Kết luận**:\n",
       "- Xu hướng tăng vẫn còn, nhưng có dấu hiệu điều chỉnh trong ngắn hạn.\n",
       "- Khuyến nghị: Chốt lời một phần nếu đang nắm giữ, chờ đợi đợt điều chỉnh để mua vào."
      ],
      "text/plain": [
       "<IPython.core.display.Markdown object>"
      ]
     },
     "metadata": {},
     "output_type": "display_data"
    }
   ],
   "source": [
    "text=msg.content\n",
    "split_index = text.rfind('\\n', 0, 1000)\n",
    "if split_index == -1:\n",
    "    ...\n",
    "part1 = text[:split_index].strip()\n",
    "part2 = text[split_index + 1:].strip()\n"
   ]
  }
 ],
 "metadata": {
  "kernelspec": {
   "display_name": "Python 3",
   "language": "python",
   "name": "python3"
  },
  "language_info": {
   "codemirror_mode": {
    "name": "ipython",
    "version": 3
   },
   "file_extension": ".py",
   "mimetype": "text/x-python",
   "name": "python",
   "nbconvert_exporter": "python",
   "pygments_lexer": "ipython3",
   "version": "3.10.4"
  }
 },
 "nbformat": 4,
 "nbformat_minor": 2
}
