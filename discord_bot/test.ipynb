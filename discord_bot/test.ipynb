{
 "cells": [
  {
   "cell_type": "code",
   "execution_count": 1,
   "metadata": {},
   "outputs": [],
   "source": [
    "INFLUXDB_TOKEN=\"xKPy_k9xjmD3H8a2-FYXXV4HWu2SNC5OzP_IPzoc5b3PTpODyUCnv_tf08Rw2FS_HoF1g9GfdmYhtV49rxih2A==\"\n",
    "import os, time\n",
    "from influxdb_client_3 import InfluxDBClient3, Point\n",
    "\n",
    "token = os.environ.get(\"INFLUXDB_TOKEN\")\n",
    "org = \"Data team\"\n",
    "host = \"https://us-central1-1.gcp.cloud2.influxdata.com\"\n",
    "\n",
    "client = InfluxDBClient3(host=host, token=token, org=org)"
   ]
  },
  {
   "cell_type": "code",
   "execution_count": 6,
   "metadata": {},
   "outputs": [
    {
     "name": "stdout",
     "output_type": "stream",
     "text": [
      "Complete. Return to the InfluxDB UI.\n"
     ]
    }
   ],
   "source": [
    "database=\"test\"\n",
    "\n",
    "data = {\n",
    "  \"point1\": {\n",
    "    \"location\": \"Klamath\",\n",
    "    \"species\": \"bees\",\n",
    "    \"count\": 23,\n",
    "  },\n",
    "  \"point2\": {\n",
    "    \"location\": \"Portland\",\n",
    "    \"species\": \"ants\",\n",
    "    \"count\": 30,\n",
    "  },\n",
    "  \"point3\": {\n",
    "    \"location\": \"Klamath\",\n",
    "    \"species\": \"bees\",\n",
    "    \"count\": 28,\n",
    "  },\n",
    "  \"point4\": {\n",
    "    \"location\": \"Portland\",\n",
    "    \"species\": \"ants\",\n",
    "    \"count\": 32,\n",
    "  },\n",
    "  \"point5\": {\n",
    "    \"location\": \"Klamath\",\n",
    "    \"species\": \"bees\",\n",
    "    \"count\": 29,\n",
    "  },\n",
    "  \"point6\": {\n",
    "    \"location\": \"Portland\",\n",
    "    \"species\": \"ants\",\n",
    "    \"count\": 40,\n",
    "  },\n",
    "}\n",
    "\n",
    "for key in data:\n",
    "  point = (\n",
    "    Point(\"census\")\n",
    "    .tag(\"location\", data[key][\"location\"])\n",
    "    .field(data[key][\"species\"], data[key][\"count\"])\n",
    "  )\n",
    "  client.write(database=database, record=point)\n",
    "  time.sleep(1) # separate points by 1 second\n",
    "\n",
    "print(\"Complete. Return to the InfluxDB UI.\")\n"
   ]
  },
  {
   "cell_type": "code",
   "execution_count": 4,
   "metadata": {},
   "outputs": [
    {
     "name": "stderr",
     "output_type": "stream",
     "text": [
      "E0507 12:33:51.106235074  503079 hpack_parser.cc:1218]                 Error parsing metadata: error=invalid value key=content-type value=text/html\n"
     ]
    },
    {
     "ename": "FlightServerError",
     "evalue": "Flight RPC failed with message: Received http2 header with status: 405. gRPC client debug context: UNKNOWN:Received http2 header with status: 405 {grpc_status:2}. Client context: IOError: Server never sent a data message. Detail: Internal",
     "output_type": "error",
     "traceback": [
      "\u001b[0;31m---------------------------------------------------------------------------\u001b[0m",
      "\u001b[0;31mFlightServerError\u001b[0m                         Traceback (most recent call last)",
      "Cell \u001b[0;32mIn[4], line 6\u001b[0m\n\u001b[1;32m      1\u001b[0m query \u001b[38;5;241m=\u001b[39m \u001b[38;5;124m\"\"\"\u001b[39m\u001b[38;5;124mSELECT mean(count)\u001b[39m\n\u001b[1;32m      2\u001b[0m \u001b[38;5;124mFROM \u001b[39m\u001b[38;5;124m\"\u001b[39m\u001b[38;5;124mcensus\u001b[39m\u001b[38;5;124m\"\u001b[39m\n\u001b[1;32m      3\u001b[0m \u001b[38;5;124mWHERE time > now() - 10m\u001b[39m\u001b[38;5;124m\"\"\"\u001b[39m\n\u001b[1;32m      5\u001b[0m \u001b[38;5;66;03m# Execute the query\u001b[39;00m\n\u001b[0;32m----> 6\u001b[0m table \u001b[38;5;241m=\u001b[39m \u001b[43mclient\u001b[49m\u001b[38;5;241;43m.\u001b[39;49m\u001b[43mquery\u001b[49m\u001b[43m(\u001b[49m\u001b[43mquery\u001b[49m\u001b[38;5;241;43m=\u001b[39;49m\u001b[38;5;124;43m\"\u001b[39;49m\u001b[38;5;124;43m\"\u001b[39;49m\u001b[43m)\u001b[49m\n\u001b[1;32m      8\u001b[0m \u001b[38;5;66;03m# Convert to dataframe\u001b[39;00m\n\u001b[1;32m      9\u001b[0m df \u001b[38;5;241m=\u001b[39m table\u001b[38;5;241m.\u001b[39mto_pandas()\u001b[38;5;241m.\u001b[39msort_values(by\u001b[38;5;241m=\u001b[39m\u001b[38;5;124m\"\u001b[39m\u001b[38;5;124mtime\u001b[39m\u001b[38;5;124m\"\u001b[39m)\n",
      "File \u001b[0;32m~/.local/lib/python3.8/site-packages/influxdb_client_3/__init__.py:263\u001b[0m, in \u001b[0;36mInfluxDBClient3.query\u001b[0;34m(self, query, language, mode, database, **kwargs)\u001b[0m\n\u001b[1;32m    261\u001b[0m     \u001b[38;5;28;01mreturn\u001b[39;00m mode_func() \u001b[38;5;28;01mif\u001b[39;00m \u001b[38;5;28mcallable\u001b[39m(mode_func) \u001b[38;5;28;01melse\u001b[39;00m mode_func\n\u001b[1;32m    262\u001b[0m \u001b[38;5;28;01mexcept\u001b[39;00m \u001b[38;5;167;01mException\u001b[39;00m \u001b[38;5;28;01mas\u001b[39;00m e:\n\u001b[0;32m--> 263\u001b[0m     \u001b[38;5;28;01mraise\u001b[39;00m e\n",
      "File \u001b[0;32m~/.local/lib/python3.8/site-packages/influxdb_client_3/__init__.py:249\u001b[0m, in \u001b[0;36mInfluxDBClient3.query\u001b[0;34m(self, query, language, mode, database, **kwargs)\u001b[0m\n\u001b[1;32m    247\u001b[0m ticket_data \u001b[38;5;241m=\u001b[39m {\u001b[38;5;124m\"\u001b[39m\u001b[38;5;124mdatabase\u001b[39m\u001b[38;5;124m\"\u001b[39m: database, \u001b[38;5;124m\"\u001b[39m\u001b[38;5;124msql_query\u001b[39m\u001b[38;5;124m\"\u001b[39m: query, \u001b[38;5;124m\"\u001b[39m\u001b[38;5;124mquery_type\u001b[39m\u001b[38;5;124m\"\u001b[39m: language}\n\u001b[1;32m    248\u001b[0m ticket \u001b[38;5;241m=\u001b[39m Ticket(json\u001b[38;5;241m.\u001b[39mdumps(ticket_data)\u001b[38;5;241m.\u001b[39mencode(\u001b[38;5;124m'\u001b[39m\u001b[38;5;124mutf-8\u001b[39m\u001b[38;5;124m'\u001b[39m))\n\u001b[0;32m--> 249\u001b[0m flight_reader \u001b[38;5;241m=\u001b[39m \u001b[38;5;28;43mself\u001b[39;49m\u001b[38;5;241;43m.\u001b[39;49m\u001b[43m_flight_client\u001b[49m\u001b[38;5;241;43m.\u001b[39;49m\u001b[43mdo_get\u001b[49m\u001b[43m(\u001b[49m\u001b[43mticket\u001b[49m\u001b[43m,\u001b[49m\u001b[43m \u001b[49m\u001b[43m_options\u001b[49m\u001b[43m)\u001b[49m\n\u001b[1;32m    251\u001b[0m mode_func \u001b[38;5;241m=\u001b[39m {\n\u001b[1;32m    252\u001b[0m     \u001b[38;5;124m\"\u001b[39m\u001b[38;5;124mall\u001b[39m\u001b[38;5;124m\"\u001b[39m: flight_reader\u001b[38;5;241m.\u001b[39mread_all,\n\u001b[1;32m    253\u001b[0m     \u001b[38;5;124m\"\u001b[39m\u001b[38;5;124mpandas\u001b[39m\u001b[38;5;124m\"\u001b[39m: flight_reader\u001b[38;5;241m.\u001b[39mread_pandas,\n\u001b[0;32m   (...)\u001b[0m\n\u001b[1;32m    258\u001b[0m \n\u001b[1;32m    259\u001b[0m }\u001b[38;5;241m.\u001b[39mget(mode, flight_reader\u001b[38;5;241m.\u001b[39mread_all)\n\u001b[1;32m    261\u001b[0m \u001b[38;5;28;01mreturn\u001b[39;00m mode_func() \u001b[38;5;28;01mif\u001b[39;00m \u001b[38;5;28mcallable\u001b[39m(mode_func) \u001b[38;5;28;01melse\u001b[39;00m mode_func\n",
      "File \u001b[0;32m~/.local/lib/python3.8/site-packages/pyarrow/_flight.pyx:1633\u001b[0m, in \u001b[0;36mpyarrow._flight.FlightClient.do_get\u001b[0;34m()\u001b[0m\n",
      "File \u001b[0;32m~/.local/lib/python3.8/site-packages/pyarrow/_flight.pyx:58\u001b[0m, in \u001b[0;36mpyarrow._flight.check_flight_status\u001b[0;34m()\u001b[0m\n",
      "\u001b[0;31mFlightServerError\u001b[0m: Flight RPC failed with message: Received http2 header with status: 405. gRPC client debug context: UNKNOWN:Received http2 header with status: 405 {grpc_status:2}. Client context: IOError: Server never sent a data message. Detail: Internal"
     ]
    }
   ],
   "source": [
    "query = \"\"\"SELECT mean(count)\n",
    "FROM \"census\"\n",
    "WHERE time > now() - 10m\"\"\"\n",
    "\n",
    "# Execute the query\n",
    "table = client.query(query=\"\")\n",
    "\n",
    "# Convert to dataframe\n",
    "df = table.to_pandas().sort_values(by=\"time\")\n",
    "print(df)\n"
   ]
  }
 ],
 "metadata": {
  "kernelspec": {
   "display_name": "Python 3",
   "language": "python",
   "name": "python3"
  },
  "language_info": {
   "codemirror_mode": {
    "name": "ipython",
    "version": 3
   },
   "file_extension": ".py",
   "mimetype": "text/x-python",
   "name": "python",
   "nbconvert_exporter": "python",
   "pygments_lexer": "ipython3",
   "version": "3.8.10"
  }
 },
 "nbformat": 4,
 "nbformat_minor": 2
}
