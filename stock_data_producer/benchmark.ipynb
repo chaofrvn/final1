{
 "cells": [
  {
   "cell_type": "code",
   "execution_count": 2,
   "metadata": {},
   "outputs": [],
   "source": [
    "import socket\n",
    "from itertools import repeat\n",
    "import time as t\n",
    "from vnstock import *  # import all functions\n",
    "import multiprocessing as mp\n",
    "import pandas as pd\n",
    "from datetime import datetime\n",
    "from concurrent.futures import ThreadPoolExecutor,ProcessPoolExecutor\n",
    "import numpy as np\n",
    "import math\n",
    "from dotenv import load_dotenv\n",
    "load_dotenv(\"../.env\")\n",
    "stock_symbols = pd.read_csv(\"company.csv\")[\"ticker\"].tolist()\n",
    "now = datetime.now()\n",
    "today = str(now.date())"
   ]
  },
  {
   "cell_type": "code",
   "execution_count": 3,
   "metadata": {},
   "outputs": [],
   "source": [
    "def retrieve_real_time_data(stock_symbols):\n",
    "    df = pd.DataFrame()\n",
    "\n",
    "    for symbol_index, stock_symbol in enumerate(stock_symbols):\n",
    "        try:\n",
    "            real_time_data = stock_historical_data(\n",
    "                symbol=stock_symbol,\n",
    "                start_date=today,\n",
    "                end_date=today,\n",
    "                resolution=\"15\",\n",
    "                type=\"stock\",\n",
    "                beautify=False,\n",
    "                decor=False,\n",
    "                source=\"DNSE\",\n",
    "            )\n",
    "            if real_time_data is not None and not real_time_data.empty:\n",
    "                df = df._append(real_time_data.iloc[-1])\n",
    "        except Exception as e:\n",
    "            print(f\"Error processing stock symbol {stock_symbol}: {str(e)}\")\n",
    "            continue\n",
    "\n",
    "    return df"
   ]
  },
  {
   "cell_type": "code",
   "execution_count": 4,
   "metadata": {},
   "outputs": [],
   "source": [
    "def divide_list(input_list, num_sublists):\n",
    "    sublist_length = math.ceil(len(input_list) / num_sublists)\n",
    "    return [\n",
    "        input_list[i : i + sublist_length]\n",
    "        for i in range(0, len(input_list), sublist_length)\n",
    "    ]"
   ]
  },
  {
   "cell_type": "code",
   "execution_count": 5,
   "metadata": {},
   "outputs": [],
   "source": [
    "def collect_data_thread(num_of_thread):\n",
    "    with ThreadPoolExecutor() as pool:\n",
    "        return list(\n",
    "            pool.map(retrieve_real_time_data, divide_list(stock_symbols, num_of_thread))\n",
    "        )"
   ]
  },
  {
   "cell_type": "code",
   "execution_count": 10,
   "metadata": {},
   "outputs": [],
   "source": [
    "def collect_data_process(num_of_thread):\n",
    "    with ProcessPoolExecutor() as pool:\n",
    "        return list(\n",
    "            pool.map(retrieve_real_time_data, divide_list(stock_symbols, num_of_thread))\n",
    "        )"
   ]
  },
  {
   "cell_type": "code",
   "execution_count": 10,
   "metadata": {},
   "outputs": [
    {
     "name": "stdout",
     "output_type": "stream",
     "text": [
      "Error in API response {\"status\":400,\"code\":\"BAD_REQUEST\",\"message\":\"invalid symbol\"}\n",
      " \n",
      "\n",
      "Error processing stock symbol ROS: local variable 'df' referenced before assignment\n"
     ]
    }
   ],
   "source": [
    "def collect_data_normal():\n",
    "    retrieve_real_time_data(stock_symbols=stock_symbols)\n",
    "collect_data_normal()"
   ]
  },
  {
   "cell_type": "code",
   "execution_count": 11,
   "metadata": {},
   "outputs": [
    {
     "name": "stdout",
     "output_type": "stream",
     "text": [
      "Error in API response {\"status\":400,\"code\":\"BAD_REQUEST\",\"message\":\"invalid symbol\"}\n",
      " \n",
      "\n",
      "Error processing stock symbol ROS: local variable 'df' referenced before assignment\n"
     ]
    },
    {
     "data": {
      "text/plain": [
       "[Empty DataFrame\n",
       " Columns: []\n",
       " Index: [],\n",
       " Empty DataFrame\n",
       " Columns: []\n",
       " Index: []]"
      ]
     },
     "execution_count": 11,
     "metadata": {},
     "output_type": "execute_result"
    }
   ],
   "source": [
    "collect_data_process(2)"
   ]
  },
  {
   "cell_type": "markdown",
   "metadata": {},
   "source": [
    " Loại     | thời gian      |\n",
    "| ------------- | ------------- |\n",
    "| Chạy bình thường | 21 m 30 s |\n",
    "| Thread 5 | 3m 58s |\n",
    "| Thread 10 | 3m 5s |\n",
    "| Thread 25 | 3m 24s |\n",
    "| Thread 50 | 4m 5s |\n",
    "| Process 2 | 6m 37s |"
   ]
  }
 ],
 "metadata": {
  "kernelspec": {
   "display_name": "Python 3",
   "language": "python",
   "name": "python3"
  },
  "language_info": {
   "codemirror_mode": {
    "name": "ipython",
    "version": 3
   },
   "file_extension": ".py",
   "mimetype": "text/x-python",
   "name": "python",
   "nbconvert_exporter": "python",
   "pygments_lexer": "ipython3",
   "version": "3.10.4"
  }
 },
 "nbformat": 4,
 "nbformat_minor": 2
}
