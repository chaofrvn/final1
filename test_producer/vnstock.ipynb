{
 "cells": [
  {
   "cell_type": "code",
   "execution_count": 1,
   "metadata": {},
   "outputs": [],
   "source": [
    "import pandas as pd\n",
    "import vnstock\n",
    "from vnstock import *\n",
    "from datetime import datetime"
   ]
  },
  {
   "cell_type": "code",
   "execution_count": 2,
   "metadata": {},
   "outputs": [],
   "source": [
    "df1 = stock_historical_data(symbol='HPG', start_date= '2024-04-01' , end_date= '2024-04-01' , resolution=\"1\", type=\"stock\", beautify=False, decor=False, source='DNSE')\n"
   ]
  },
  {
   "cell_type": "code",
   "execution_count": 3,
   "metadata": {},
   "outputs": [
    {
     "data": {
      "text/html": [
       "<div>\n",
       "<style scoped>\n",
       "    .dataframe tbody tr th:only-of-type {\n",
       "        vertical-align: middle;\n",
       "    }\n",
       "\n",
       "    .dataframe tbody tr th {\n",
       "        vertical-align: top;\n",
       "    }\n",
       "\n",
       "    .dataframe thead th {\n",
       "        text-align: right;\n",
       "    }\n",
       "</style>\n",
       "<table border=\"1\" class=\"dataframe\">\n",
       "  <thead>\n",
       "    <tr style=\"text-align: right;\">\n",
       "      <th></th>\n",
       "      <th>time</th>\n",
       "      <th>open</th>\n",
       "      <th>high</th>\n",
       "      <th>low</th>\n",
       "      <th>close</th>\n",
       "      <th>volume</th>\n",
       "      <th>ticker</th>\n",
       "    </tr>\n",
       "  </thead>\n",
       "  <tbody>\n",
       "    <tr>\n",
       "      <th>0</th>\n",
       "      <td>2024-04-01 09:15:00</td>\n",
       "      <td>30.20</td>\n",
       "      <td>30.25</td>\n",
       "      <td>30.15</td>\n",
       "      <td>30.20</td>\n",
       "      <td>279400</td>\n",
       "      <td>HPG</td>\n",
       "    </tr>\n",
       "    <tr>\n",
       "      <th>1</th>\n",
       "      <td>2024-04-01 09:16:00</td>\n",
       "      <td>30.20</td>\n",
       "      <td>30.20</td>\n",
       "      <td>30.15</td>\n",
       "      <td>30.15</td>\n",
       "      <td>93500</td>\n",
       "      <td>HPG</td>\n",
       "    </tr>\n",
       "    <tr>\n",
       "      <th>2</th>\n",
       "      <td>2024-04-01 09:17:00</td>\n",
       "      <td>30.20</td>\n",
       "      <td>30.20</td>\n",
       "      <td>30.15</td>\n",
       "      <td>30.20</td>\n",
       "      <td>141600</td>\n",
       "      <td>HPG</td>\n",
       "    </tr>\n",
       "    <tr>\n",
       "      <th>3</th>\n",
       "      <td>2024-04-01 09:18:00</td>\n",
       "      <td>30.15</td>\n",
       "      <td>30.20</td>\n",
       "      <td>30.15</td>\n",
       "      <td>30.15</td>\n",
       "      <td>132300</td>\n",
       "      <td>HPG</td>\n",
       "    </tr>\n",
       "    <tr>\n",
       "      <th>4</th>\n",
       "      <td>2024-04-01 09:19:00</td>\n",
       "      <td>30.15</td>\n",
       "      <td>30.20</td>\n",
       "      <td>30.15</td>\n",
       "      <td>30.15</td>\n",
       "      <td>88100</td>\n",
       "      <td>HPG</td>\n",
       "    </tr>\n",
       "    <tr>\n",
       "      <th>...</th>\n",
       "      <td>...</td>\n",
       "      <td>...</td>\n",
       "      <td>...</td>\n",
       "      <td>...</td>\n",
       "      <td>...</td>\n",
       "      <td>...</td>\n",
       "      <td>...</td>\n",
       "    </tr>\n",
       "    <tr>\n",
       "      <th>221</th>\n",
       "      <td>2024-04-01 14:26:00</td>\n",
       "      <td>30.10</td>\n",
       "      <td>30.15</td>\n",
       "      <td>30.10</td>\n",
       "      <td>30.10</td>\n",
       "      <td>60700</td>\n",
       "      <td>HPG</td>\n",
       "    </tr>\n",
       "    <tr>\n",
       "      <th>222</th>\n",
       "      <td>2024-04-01 14:27:00</td>\n",
       "      <td>30.10</td>\n",
       "      <td>30.15</td>\n",
       "      <td>30.10</td>\n",
       "      <td>30.15</td>\n",
       "      <td>56400</td>\n",
       "      <td>HPG</td>\n",
       "    </tr>\n",
       "    <tr>\n",
       "      <th>223</th>\n",
       "      <td>2024-04-01 14:28:00</td>\n",
       "      <td>30.10</td>\n",
       "      <td>30.15</td>\n",
       "      <td>30.10</td>\n",
       "      <td>30.15</td>\n",
       "      <td>23300</td>\n",
       "      <td>HPG</td>\n",
       "    </tr>\n",
       "    <tr>\n",
       "      <th>224</th>\n",
       "      <td>2024-04-01 14:29:00</td>\n",
       "      <td>30.10</td>\n",
       "      <td>30.15</td>\n",
       "      <td>30.10</td>\n",
       "      <td>30.15</td>\n",
       "      <td>169100</td>\n",
       "      <td>HPG</td>\n",
       "    </tr>\n",
       "    <tr>\n",
       "      <th>225</th>\n",
       "      <td>2024-04-01 14:45:00</td>\n",
       "      <td>30.10</td>\n",
       "      <td>30.10</td>\n",
       "      <td>30.10</td>\n",
       "      <td>30.10</td>\n",
       "      <td>537100</td>\n",
       "      <td>HPG</td>\n",
       "    </tr>\n",
       "  </tbody>\n",
       "</table>\n",
       "<p>226 rows × 7 columns</p>\n",
       "</div>"
      ],
      "text/plain": [
       "                    time   open   high    low  close  volume ticker\n",
       "0    2024-04-01 09:15:00  30.20  30.25  30.15  30.20  279400    HPG\n",
       "1    2024-04-01 09:16:00  30.20  30.20  30.15  30.15   93500    HPG\n",
       "2    2024-04-01 09:17:00  30.20  30.20  30.15  30.20  141600    HPG\n",
       "3    2024-04-01 09:18:00  30.15  30.20  30.15  30.15  132300    HPG\n",
       "4    2024-04-01 09:19:00  30.15  30.20  30.15  30.15   88100    HPG\n",
       "..                   ...    ...    ...    ...    ...     ...    ...\n",
       "221  2024-04-01 14:26:00  30.10  30.15  30.10  30.10   60700    HPG\n",
       "222  2024-04-01 14:27:00  30.10  30.15  30.10  30.15   56400    HPG\n",
       "223  2024-04-01 14:28:00  30.10  30.15  30.10  30.15   23300    HPG\n",
       "224  2024-04-01 14:29:00  30.10  30.15  30.10  30.15  169100    HPG\n",
       "225  2024-04-01 14:45:00  30.10  30.10  30.10  30.10  537100    HPG\n",
       "\n",
       "[226 rows x 7 columns]"
      ]
     },
     "execution_count": 3,
     "metadata": {},
     "output_type": "execute_result"
    }
   ],
   "source": [
    "df1"
   ]
  },
  {
   "cell_type": "code",
   "execution_count": 4,
   "metadata": {},
   "outputs": [
    {
     "name": "stdout",
     "output_type": "stream",
     "text": [
      "<class 'str'>\n"
     ]
    }
   ],
   "source": [
    "print(type(df1.iloc[3,0]))"
   ]
  },
  {
   "cell_type": "code",
   "execution_count": 6,
   "metadata": {},
   "outputs": [
    {
     "data": {
      "text/plain": [
       "'2024-04-01 14:45:00'"
      ]
     },
     "execution_count": 6,
     "metadata": {},
     "output_type": "execute_result"
    }
   ],
   "source": [
    "c = df1.iloc[-1,0]\n",
    "c"
   ]
  },
  {
   "cell_type": "code",
   "execution_count": 12,
   "metadata": {},
   "outputs": [
    {
     "name": "stdout",
     "output_type": "stream",
     "text": [
      "<class 'datetime.datetime'>\n"
     ]
    }
   ],
   "source": [
    "a = df1.iloc[4,0]\n",
    "b = datetime.strptime(a, \"%Y-%m-%d %H:%M:%S\")\n",
    "print(type(b))"
   ]
  },
  {
   "cell_type": "code",
   "execution_count": 15,
   "metadata": {},
   "outputs": [
    {
     "name": "stdout",
     "output_type": "stream",
     "text": [
      "True\n"
     ]
    }
   ],
   "source": [
    "print(b > datetime.now() - timedelta(days=50))"
   ]
  }
 ],
 "metadata": {
  "kernelspec": {
   "display_name": "Python 3",
   "language": "python",
   "name": "python3"
  },
  "language_info": {
   "codemirror_mode": {
    "name": "ipython",
    "version": 3
   },
   "file_extension": ".py",
   "mimetype": "text/x-python",
   "name": "python",
   "nbconvert_exporter": "python",
   "pygments_lexer": "ipython3",
   "version": "3.8.10"
  }
 },
 "nbformat": 4,
 "nbformat_minor": 2
}
