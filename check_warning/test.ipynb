{
 "cells": [
  {
   "cell_type": "code",
   "execution_count": 2,
   "metadata": {},
   "outputs": [],
   "source": [
    "from mailjet_rest import Client\n",
    "import os\n",
    "from dotenv import load_dotenv\n",
    "load_dotenv(\"../.env\")\n",
    "# Get your environment Mailjet keys\n",
    "API_KEY = os.environ[\"MJ_APIKEY_PUBLIC\"]\n",
    "API_SECRET = os.environ[\"MJ_APIKEY_PRIVATE\"]\n",
    "\n",
    "mailjet = Client(auth=(API_KEY, API_SECRET), version=\"v3.1\")"
   ]
  },
  {
   "cell_type": "code",
   "execution_count": 3,
   "metadata": {},
   "outputs": [],
   "source": [
    "def send_email(mailjet: Client, msg: str, email: str, user_id: str):\n",
    "    if email is None:\n",
    "        return\n",
    "    data = {\n",
    "        \"Messages\": [\n",
    "            {\n",
    "                \"From\": {\"Email\": \"Thai.BH204688@sis.hust.edu.vn\", \"Name\": \"Stock\"},\n",
    "                \"To\": [{\"Email\": email, \"Name\": \"Người dùng Discord \" + user_id}],\n",
    "                \"Subject\": \"Cảnh báo chứng khoán\",\n",
    "                \"TextPart\": msg,\n",
    "            }\n",
    "        ]\n",
    "    }\n",
    "    result = mailjet.send.create(data=data)\n",
    "    print(result)\n",
    "    print(result.json())"
   ]
  },
  {
   "cell_type": "code",
   "execution_count": 6,
   "metadata": {},
   "outputs": [
    {
     "name": "stdout",
     "output_type": "stream",
     "text": [
      "<Response [200]>\n",
      "{'Messages': [{'Status': 'success', 'CustomID': '', 'To': [{'Email': 'huyhoang123abcdef@gmail.com', 'MessageUUID': '0e874ba7-c869-46f3-9842-e46f0642ffa4', 'MessageID': 576460776670739757, 'MessageHref': 'https://api.mailjet.com/v3/REST/message/576460776670739757'}], 'Cc': [], 'Bcc': []}]}\n"
     ]
    }
   ],
   "source": [
    "send_email(mailjet=mailjet,msg=\"hello\",email=\"huyhoang123abcdef@gmail.com\",user_id=\"1234455\")"
   ]
  }
 ],
 "metadata": {
  "kernelspec": {
   "display_name": "Python 3",
   "language": "python",
   "name": "python3"
  },
  "language_info": {
   "codemirror_mode": {
    "name": "ipython",
    "version": 3
   },
   "file_extension": ".py",
   "mimetype": "text/x-python",
   "name": "python",
   "nbconvert_exporter": "python",
   "pygments_lexer": "ipython3",
   "version": "3.10.4"
  }
 },
 "nbformat": 4,
 "nbformat_minor": 2
}
